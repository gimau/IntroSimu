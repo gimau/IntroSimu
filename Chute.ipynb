{
 "cells": [
  {
   "cell_type": "markdown",
   "metadata": {},
   "source": [
    "# TP n°1 : La simulation pas à pas d'une chute libre \n",
    "\n",
    "Nous allons modéliser le tir d’un projectile de masse $m$, lancé avec une vitesse initiale $\\vec{v_0}$ depuis un promontoire d’altitude $H$. Le projectile sera soumis à son poids, supposé constant, puis, pour les plus courageux et rapides d’entre vous, à d’autres forces (vent, frottements). \n",
    "\n",
    "<img src=\"images/Chute.png\" alt=\"drawing\" width=\"400\"/>\n",
    "\n",
    "*On prendra $H=10\\,$m, $g=9.81\\,$m.s$^{-2}$ et $v_0=1\\,$m.s$^{-1}$ $m=5\\,$kg*\n"
   ]
  },
  {
   "cell_type": "markdown",
   "metadata": {},
   "source": [
    "\n",
    "-----\n",
    "\n",
    "Faire une **simulation**, c’est calculer et représenter les différents états successifs de l’évolution d’un modèle (représentant un système physique ou biologique ou ...) au cours du temps. \n",
    "\n",
    "Nous allons ainsi partir d'un état initial et faire avancer le temps par petit *pas* ($\\delta t$) en faisant un certain nombre d'hypothèses et de calculs.\n",
    "\n",
    "Pour notre situation, nous avons déjà l'état initial :\n",
    "\n",
    "- $t=0$\n",
    "- $x(0) = 0$\n",
    "- $z(0) = H$\n",
    "- $v_x(0) = v_{x0}$\n",
    "- $v_z(0) = v_{z0}$\n",
    "- $a_x(0) = 0$\n",
    "- $a_z(0) = -g$"
   ]
  },
  {
   "cell_type": "markdown",
   "metadata": {},
   "source": [
    "Il faut maintenant trouver le moyen de faire *\"avancer le temps\"*. Mais comment ? \n",
    "\n",
    "----\n",
    "\n",
    "**Grâce au développement de Taylor !!!!** \n",
    "\n",
    "En effet, si nous prenons $\\delta t$ très petit, on peut toujours écrire à l'ordre 1 que :\n",
    "\n",
    "<div align=\"center\">  $f(t+\\delta t) = f(t) + \\frac{df(t)}{dt}\\,\\delta t$ </div>\n",
    "\n",
    "Appliqué à $x(t)$ cela donne : \n",
    "\n",
    "<div align=\"center\"> $x(t+\\delta t) = x(t) + \\frac{dx(t)}{dt}\\,\\delta t $ </div>\n",
    "\n",
    "Mais nous savons aussi que $\\frac{dx(t)}{dt}=v_x(t)$, d'où :\n",
    "<div align=\"center\"> $x(t+\\delta t) = x(t) + v_x(t)\\,\\delta t $ </div>\n",
    "\n",
    "Nous voyons ici que l'on peut calculer le temps (*pas*) $t+\\delta$ si l'on connaît les conditions au temps (*pas*) précédent $t$.\n",
    "\n",
    "\n",
    "Appliquons cela à $t=0$ pour calculer la position $x$ au temps $\\delta t$ :\n",
    "<div align=\"center\"> $x(\\delta t) = x(0) + v_x(0)\\,\\delta t$ </div>\n",
    "\n",
    "Si vous regardez la situation initiale, nous avons tout ce qu'il faut pour faire ces calculs. Il est donc possible à partir des conditions à l'instant $t=0$ de calculer la position à l'instant $\\delta t$.\n",
    "\n",
    "Notez également qu'il est possible d'appliquer le développement de Taylor aux autres paramètres comme $z(t)$, $v_x(t)$ et $v_z(t)$ :\n",
    "<div align=\"center\"> $v_x(t+\\delta t) = v_x(t) + a_x(t)\\,\\delta t$ </div>\n",
    "\n",
    "____\n",
    "\n",
    "**Passons à la partie code.** En informatique, il est impossible d'écrire directement $x(\\delta t)$ ou $x(t+\\delta t)$. Cela n'a pas de sens. Nous allons donc utiliser une liste pour $x(t)$ :\n",
    "\n",
    "- Le premier élément de la liste correspondra à $t=0$\n",
    "- Le deuxième à $t=\\delta t$\n",
    "- Le troisième à $t=2\\times\\delta t$\n",
    "- Le $n^{ème}$ à $t=n\\times\\delta t$\n",
    "\n",
    "Nous pouvons faire cela avec une boucle :\n",
    "\n",
    "    dt = 0.1\n",
    "    lt = []\n",
    "    while t < tmax :\n",
    "        t = t + dt\n",
    "        lt.append(t)\n",
    "        \n",
    "Il ne reste plus qu'à ajouter le calcul de $x(t+\\delta t)$ à le la valeur précédente $x(t)$. \n",
    "        \n",
    "        x = x + vx * dt\n",
    "        \n",
    "Il ne reste plus qu'à stocker cette nouvelle valeur dans une liste. Voyons comment faire cela ensemble puis traçons la courbe.\n"
   ]
  },
  {
   "cell_type": "code",
   "execution_count": 2,
   "metadata": {},
   "outputs": [],
   "source": [
    "import matplotlib.pyplot as plt\n",
    "import numpy as np\n",
    "\n",
    "\n"
   ]
  }
 ],
 "metadata": {
  "kernelspec": {
   "display_name": "Python 3",
   "language": "python",
   "name": "python3"
  },
  "language_info": {
   "codemirror_mode": {
    "name": "ipython",
    "version": 3
   },
   "file_extension": ".py",
   "mimetype": "text/x-python",
   "name": "python",
   "nbconvert_exporter": "python",
   "pygments_lexer": "ipython3",
   "version": "3.7.4"
  }
 },
 "nbformat": 4,
 "nbformat_minor": 4
}
