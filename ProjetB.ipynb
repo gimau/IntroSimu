{
 "cells": [
  {
   "cell_type": "markdown",
   "metadata": {},
   "source": [
    "# TP B : Le satellite freiné par l’atmosphère\n",
    "\n",
    "On considère un satellite à une altitude $H$ en orbite circulaire autour de la Terre. Ce satellite est freiné par le gaz résiduel à l’altitude H. La force de frottement s’écrit $\\vec{f} = -\\alpha \\vec{v}$. Le satellite va, en freinant, tomber vers la Terre et s’y ´ecraser. On veut simuler ce comportement.\n",
    "\n",
    "## Recherche préliminaire\n",
    "Voici quelques affirmations et données qui vous seront utiles. En reprenant vos cours du premier semestre ou/et en cherchant des documents pertinents, vous les justifierez d’ici le deuxième TP :\n",
    "\n",
    "1) Quels sont les paramètres dont dépend la force de frottement dans l’air ?\n",
    "\n",
    "*Réponse : la densité de l’air, la vitesse de l’objet (ou son carré), la taille de l’objet ou plus exactement son aire projetée perpendiculairement à la vitesse, la viscosité de l’air, etc...*\n",
    "\n",
    "2) Comment la pression de l’air évolue-t-elle avec l’altitude ?\n",
    "\n",
    "*Réponse : Globalement elle d´ecroit de façon exponentielle.*\n",
    "\n",
    "3) Donner une expression mathématique qui approxime cette évolution. On notera $P_0$ la pression au niveau de la mer.\n",
    "\n",
    "* Réponse :\n",
    "<div align=\"center\"> $P(z) = P_0 \\exp{\\left(\\frac{-7g}{2C_PT_0}z\\right)}$ </div>\n",
    "\n",
    "*où $P(z)$ est la pression à l’altitude $z$ par rapport au sol, $P_0$ est la presion au sol, $g = 9.81$m/s$^2$ est l’accélération de la pesanteur, $Cp$ = 1006 J/kg/K est la capacité calorifique de l’air à pression constante et $T_0$ est la\n",
    "température au sol.*\n",
    "\n",
    "*On définit une atmosphère standard (conditions standard au niveau du sol, gradient de température standard) pour laquelle on obtient la formule internationale du nivellement barométrique :*\n",
    "<div align=\"center\"> $P(z) = 1, 01325 \\times 10^5\n",
    "\\left(1 - \\frac{0,0065.z}{288,15}\\right)^ {5,255}$ </div>\n",
    "\n",
    "*où P(z) s’exprime en Pascals et z en mètres.*\n",
    "\n",
    "4) On suppose que l’air est approximativement un gaz parfait de température moyenne constante $T_0$. A partir des deux questions précédentes et de la loi des gaz parfaits, exprimer la masse volumique de l’air en fonction de\n",
    "- l’altitude\n",
    "- la masse molaire de l’air\n",
    "- la constante des gaz parfaits R\n",
    "- la température supposée constante\n",
    "\n",
    "*Element de réponse :*\n",
    "<div align=\"center\"> $\\rho = M.P(z)$ </div>\n"
   ]
  },
  {
   "cell_type": "markdown",
   "metadata": {},
   "source": [
    "## Modélisation de la situation\n",
    "\n",
    "5) Modéliser la situation avec, entre autres, la réalisation d’un schéma qui la décrit. Quelques indications :\n",
    "- On supposera au moins au départ que l’air est un gaz parfait de température indépendante de l’altitude\n",
    "- On supposera que la composition chimique de l’air ne change pas avec l’altitude (donc la masse molaire de l’air non plus)\n",
    "- Les conditions initiales sont fixées par vous. Choisissez-les de façon à pouvoir les justifier.\n",
    "\n",
    "6) En choisissant un repère cartésien approprié, exprimer les coordonnées cartésiennes de la (ou des) force(s) qui s’exerce(nt) sur le satellite au point $M$ en fonction des coordonnées $(x, y)$ du point $M$. Vous pouvez réutiliser les résultats et techniques des TP précédents.\n",
    "\n",
    "7) A partir du principe fondamentale de la dynamique (PFD), écrire l’équation différentielle qui régit le mouvement du satellite sous deux hypothèses :\n",
    "\n",
    "A) La force de frottement s’écrit $\\vec{f} = −\\alpha . \\vec{v}$ où $\\vec{v}$ est le vecteur vitesse du satellite, $v$ la norme de ce vecteur et $\\alpha$ une constante. \n",
    "\n",
    "On estimera la valeur numérique de $\\alpha$ en considérant le résultat observationnel qu’un parachutiste de $100$ kg en chute libre atteint une vitesse limite de l’ordre de $\\approx200$ km/h près du sol. \n",
    "\n",
    "On supposera par ailleurs que le coefficient $\\alpha$ est proportionnel à la masse volumique de l’air autour du corps en chute libre (rappel : retrouvez la masse volumique de l’air dans les conditions normales de température et de pression).\n",
    "\n",
    "B) La force de frottement s’écrit $\\vec{f} = -\\frac{1}{2}\\rho . S . c_x . v . \\vec{v}$\n",
    "\n",
    "- $\\vec{v}$ est le vecteur vitesse du satellite\n",
    "- $v$ la norme de ce vecteur\n",
    "- $S$ la section droite du satellite (que l’on estimera)\n",
    "— $\\rho$ la masse volumique de l’air (évidemment au niveau du satellite)\n",
    "- $c_x$ un coefficient sans dimension que l’on prendra égal à $c_x = 0,4$\n",
    "\n",
    "8) Mettre cette Équation sous une forme adaptée la résolution numérique pour les deux cas précédents."
   ]
  },
  {
   "cell_type": "markdown",
   "metadata": {},
   "source": [
    "## Résolution numérique dans un cas simple\n",
    "\n",
    "On suppose dans cette section que la force de frottement correspond au cas A) ci-dessus.\n",
    "\n",
    "9) En posant les valeurs initiales de position et vitesse correspondant à une orbite circulaire à une altitude $H$ que vous choisirez, résoudre numériquement les équations à l’aide de l’outil informatique. On se basera sur les expressions et calculs faits en préparation du TP (sections ci-dessus). Pour information, la station spatiale internationale est à $400$ km d’altitude.\n",
    "\n",
    "On attend par exemple des graphiques montrant\n",
    "- La trajectoire du satellite ($y$ en fonction de $x$)\n",
    "- L’altitude du satellite en fonction du temps\n",
    "- Tout graphique qui vous semblera pertinent\n",
    "\n",
    "10) Commentez le mouvement obtenu.\n",
    "\n",
    "11) Afficher un graphe de la norme de la vitesse en fonction du temps entre l’altitude de départ et le contact avec le sol. Afficher également un graphe de l’énergie mécanique du satellite en fonction du temps. Commentez ces deux graphes.\n",
    "\n",
    "12) Dans le cas où il n’y pas de frottement, comparez vos résultats numériques avec la solution analytique qui n’est autre qu’un cercle (si vous n’avez pas fait d’erreur sur le calcul de la vitesse). Comment peut-on faire pour diminuer les différences entre les deux solutions ?"
   ]
  },
  {
   "cell_type": "code",
   "execution_count": null,
   "metadata": {},
   "outputs": [],
   "source": []
  },
  {
   "cell_type": "markdown",
   "metadata": {},
   "source": [
    "## Résolution numérique dans un cas plus complexe\n",
    "\n",
    "13) Reprendre les questions ci-dessus (celles que vous pouvez ou qui sont pertinentes) en considérant maintenant que l’astronaute subit un frottement correspondant au cas B) ci-dessus."
   ]
  },
  {
   "cell_type": "code",
   "execution_count": null,
   "metadata": {},
   "outputs": [],
   "source": []
  }
 ],
 "metadata": {
  "kernelspec": {
   "display_name": "Python 3",
   "language": "python",
   "name": "python3"
  },
  "language_info": {
   "codemirror_mode": {
    "name": "ipython",
    "version": 3
   },
   "file_extension": ".py",
   "mimetype": "text/x-python",
   "name": "python",
   "nbconvert_exporter": "python",
   "pygments_lexer": "ipython3",
   "version": "3.7.4"
  }
 },
 "nbformat": 4,
 "nbformat_minor": 4
}
