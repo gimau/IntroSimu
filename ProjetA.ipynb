{
 "cells": [
  {
   "cell_type": "markdown",
   "metadata": {},
   "source": [
    "# TP A : L’astronaute qui traverse les astéroïdes\n",
    "\n",
    "Un astéroïde sphérique est percé d’un tunnel qui le traverse de part en part et passe par son centre. Un astronaute joueur se jette dans le trou. On va chercher à simuler son mouvement à travers l’astéroïde.\n",
    "\n",
    "Pour cela, Nous avons besoin de connaître les forces qui s’exercent sur lui. Au début de l’étude, seule la gravitation est n´ecessaire. Nous vous donnons un résultat important : lorsque l’astronaute se trouve à une distance $R$ du centre de l’astéroïde, seule compte (pour la calcul de la force gravitationnelle) la masse de roche qui se trouve à une distance $r< R$, à condition que l’astéroïde soit sphérique et la matière distribuée de façon homogène. L’influence de toute la matière à $r > R$ est nulle. \n",
    "\n",
    "Ce résultat peut se d´emontrer à l’aide du théorème\n",
    "de Gauss, que nous verrons en deuxième année.\n",
    "On considèrera qu’un astéroïde a une masse volumique moyenne $\\rho$ qui est celle de la roche, c’est à dire $\\rho = 3000$ kg.m$^{−3}$.\n",
    "\n",
    "## Recherche préliminaire\n",
    "Voici quelques affirmations et donn´ees qui vous seront utiles. En reprenant vos cours du premier semestre ou/et en cherchant des documents pertinents, vous les justifierez d’ici le deuxième TP :\n",
    "\n",
    "1) Quelle est la taille d’un astéroïde à partir de laquelle il devient quasiment sphérique ?\n",
    "\n",
    "*Réponse* : quelques centaines de kilomètres de diamètre. Comparer les tailles et formes de différents objets du système solaire : Cérès, la comète Churyumov-Gerasimenko, la Lune, le satellite de Jupiter Callisto,...\n",
    "\n",
    "2) Quelles sont, dans ces conditions, sa masse, son volume ?\n",
    "\n",
    "*Réponse* : on peut considérer que si la taille de l’objet ne dépasse pas quelques centaines de km de diamètre, il est constitué de roche, la densité est alors de l’ordre de $3 \\times 10^3$ kg/m$^3$.\n",
    "\n",
    "3) Les astéroïdes dont on parle ont-il un cœur en fusion ? On supposera que non dans la simulation.\n",
    "\n",
    "*Réponse* : à priori non"
   ]
  },
  {
   "cell_type": "markdown",
   "metadata": {},
   "source": [
    "## Modélisation de la situation\n",
    "\n",
    "4) Modéliser la situation avec, entre autres, la r´ealisation d’un sch´ema qui la d´ecrit. Quelques indications :\n",
    "- On supposera que le volume du tunnel est négligeable devant le volume de la sphère représentant l’astéroïde.\n",
    "- Vous aurez besoin de calculer le volume d’une sphère de rayon $R$ et d'en déduire la masse de cette sphère si la masse volumique $\\rho$ est donnée.\n",
    "- Nous vous laissons le choix du rayon de l’astéroïde, du moment qu’il est cohérent avec les données astronomiques. Vous justifierez ce choix.\n",
    "- Les conditions initiales sont fixées par vous. Choisissez-les de façon à pouvoir les justifier.\n",
    "\n",
    "5) En choisissant un repère cartésien approprié, exprimer les coordonnées cartésiennes de la (ou des) force(s) qui s’exerce(nt) sur l’astronaute au point $M$ en fonction des coordonnées $(x, y)$ de ce point.\n",
    "\n",
    "6) A partir du principe fondamentale de la dynamique (PFD), écrire l’équation différentielle qui régit le mouvement de l’astronaute. La mettre sous une forme adaptée à la résolution numérique."
   ]
  },
  {
   "cell_type": "markdown",
   "metadata": {},
   "source": [
    "## Résolution numérique dans un cas simple\n",
    "\n",
    "On suppose dans cette section que l’astronaute ne subit pas de frottements lors de sa traversée du “tunnel”.\n",
    "\n",
    "7) En posant les valeurs initiales de position, résoudre numériquement les équations à l’aide de l’outil informatique. On se basera sur les expressions et calculs faits en préparation du TP (sections ci-dessus). On attend par exemple des graphiques montrant\n",
    "- La position de l’astronaute en fonction du temps\n",
    "- La vitesse de l’astronaute en fonction du temps\n",
    "- Tout graphique qui vous semblera pertinent\n",
    "\n",
    "8) Commentez le mouvement obtenu.\n",
    "Lorsque l’astronaute saute dans le trou à la surface de l’astéroïde, on calcule son mouvement théorique en fonction du temps $t$ en résolvant l’équation différentielle ci-dessus et l’on obtient :\n",
    "\n",
    "<div align=\"center\"> $r = =R.\\cos{\\left( \\sqrt{\\frac{G.M_0}{R^3}.t} \\right)}$ </div>\n",
    "\n",
    "\n",
    "\n",
    "avec\n",
    "- $G$ la constante de gravitation universelle\n",
    "- $R$ le rayon de l’astéroïde\n",
    "- $M_0$ la masse totale de l’astéroïde\n",
    "\n",
    "9) Comparez cette solution avec le résultat de votre simulation. Commentez les différences. Comment peut-on faire pour diminuer les différences entre les deux solutions ?\n",
    "\n",
    "On attend ici aussi des graphiques de la position en fonction du temps et de la vitesse en fonction du temps comparant les deux solutions."
   ]
  },
  {
   "cell_type": "code",
   "execution_count": null,
   "metadata": {},
   "outputs": [],
   "source": []
  },
  {
   "cell_type": "markdown",
   "metadata": {},
   "source": [
    "## Résolution numérique dans un cas plus complexe\n",
    "\n",
    "10) Reprendre les questions ci-dessus en consid´erant maintenant que l’astronaute subit un frottement visqueux dû à des échappements de gaz dans le tunnel. On supposera que la cons´equence en est une force de frottement proportionnelle à $v^2$ :\n",
    "\n",
    "<div align=\"center\"> $\\vec{f} = -\\alpha v . \\vec{v}$ </div>\n",
    "où $\\vec{v}$ est le vecteur vitesse de l’astronaute et $v$ sa norme.\n",
    "\n",
    "11) Mêmes questions si le frottement est de la forme : \n",
    "<div align=\"center\"> $\\vec{f'} = -\\alpha' \\frac{\\vec{v}}{v}$ </div>\n",
    "\n",
    "12) (question pour les costauds) et si vous résolviez vous-mêmes analytiquement l’équation du cas sans frottement ?"
   ]
  },
  {
   "cell_type": "code",
   "execution_count": null,
   "metadata": {},
   "outputs": [],
   "source": []
  }
 ],
 "metadata": {
  "kernelspec": {
   "display_name": "Python 3",
   "language": "python",
   "name": "python3"
  },
  "language_info": {
   "codemirror_mode": {
    "name": "ipython",
    "version": 3
   },
   "file_extension": ".py",
   "mimetype": "text/x-python",
   "name": "python",
   "nbconvert_exporter": "python",
   "pygments_lexer": "ipython3",
   "version": "3.7.4"
  }
 },
 "nbformat": 4,
 "nbformat_minor": 4
}
