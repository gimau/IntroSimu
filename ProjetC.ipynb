{
 "cells": [
  {
   "cell_type": "markdown",
   "metadata": {},
   "source": [
    "# TP C : La chute de Felix Baumgartner\n",
    "\n",
    "Le 14 octobre 2012, l’autrichien Felix Baumgartner s’est laissé tomber en chute libre d’une altitude de 38969 m. Nous voulons ici simuler sa chute. On considère donc un objet tombant en chute libre d’une hauteur $H$. Outre que cet objet va être soumis à la force de gravitation dˆue à la Terre, il sera freiné par le gaz résiduel à l’altitude h où il se trouve. \n",
    "\n",
    "La force de frottement subie sera considérée comme opposée à la vitesse. L’objet\n",
    "va, en freinant, tomber vers la Terre et, dans le cas de Baumgartner, ouvrir un parachute au bon moment avant de s’´ecraser.\n",
    "\n",
    "Pour information, le record de hauteur et de durée de saut en chute libre est détenu aujourd’hui par Alan Eustace, qui a sauté le 24 octobre 2014 de 41419 m.\n",
    "\n",
    "## Recherche préliminaire\n",
    "Voici quelques affirmations et données qui vous seront utiles. En reprenant vos cours du premier semestre ou/et en cherchant des documents pertinents, vous les justifierez d’ici le deuxième TP :\n",
    "\n",
    "1) Quels sont les paramètres dont d´epend la force de frottement dans l’air ?\n",
    "\n",
    "*Réponse : la densité de l’air, la vitesse de l’objet (ou son carré), la taille de l’objet ou plus exactement son aire projetée perpendiculairement à la vitesse, la viscosité de l’air, etc...*\n",
    "\n",
    "2) Comment la pression de l’air évolue-t-elle avec l’altitude ?\n",
    "\n",
    "*Réponse : Globalement elle d´ecroit de façon exponentielle.*\n",
    "\n",
    "3) Donner une expression mathématique qui approxime cette évolution. On notera $P_0$ la pression au niveau de la mer.\n",
    "\n",
    "*Réponse :\n",
    "\n",
    "<div align=\"center\"> $P(z) = P_0 \\exp{\\left(\\frac{-7g}{2C_PT_0}z\\right)}$ </div>\n",
    "\n",
    "*où $P(z)$ est la pression à l’altitude $z$ par rapport au sol, $P_0$ est la presion au sol, $g = 9.81$m/s$^2$ est l’accélération de la pesanteur, $Cp$ = 1006 J/kg/K est la capacité calorifique de l’air à pression constante et $T_0$ est la\n",
    "température au sol.*\n",
    "\n",
    "*On définit une atmosphère standard (conditions standard au niveau du sol, gradient de température standard) pour laquelle on obtient la formule internationale du nivellement barométrique :*\n",
    "<div align=\"center\"> $P(z) = 1, 01325 \\times 10^5\n",
    "\\left(1 - \\frac{0,0065.z}{288,15}\\right)^ {5,255}$ </div>\n",
    "\n",
    "*où P(z) s’exprime en Pascals et z en mètres.*\n",
    "\n",
    "4) On suppose que l’air est approximativement un gaz parfait de température moyenne constante $T_0$. A partir des deux questions précédentes et de la loi des gaz parfaits, exprimer la masse volumique de l’air en fonction de :\n",
    "- l’altitude\n",
    "- la masse molaire de l’air\n",
    "- la constante des gaz parfaits $R$\n",
    "- la température supposée constante\n",
    "\n",
    "*Element de réponse :*\n",
    "<div align=\"center\"> $\\rho = \\frac{M.P(z)}{R.T}$ </div>\n"
   ]
  },
  {
   "cell_type": "markdown",
   "metadata": {},
   "source": [
    "## Modélisation de la situation\n",
    "\n",
    "5) Modéliser la situation avec, entre autres, la réalisation d’un schéma qui la décrit. Quelques indications :\n",
    "\n",
    "- On supposera au moins au départ que l’air est un gaz parfait de température indépendante de l’altitude\n",
    "- On supposera que la composition chimique de l’air ne change pas avec l’altitude (donc la masse molaire de l’air non plus)\n",
    "- Les conditions initiales sont fixées par vous. Choisissez-les de façon à pouvoir les justifier.\n",
    "\n",
    "6) En choisissant un repère cartésien approprié, exprimer les coordonnées cartésiennes de la (ou des) force(s) qui s’exerce(nt) sur le sauteur au point $M$ en fonction des coordonn´ees $(x, y)$ du point $M$. Vous pouvez réutiliser les résultats et techniques des TP précédents.\n",
    "\n",
    "7) A partir du principe fondamentale de la dynamique (PFD), écrire l’équation différentielle qui régit le mouvement du sauteur sous deux hypothèses :\n",
    "\n",
    "A) La force de frottement s’écrit $\\vec{f} = −\\alpha . \\vec{v}$ où $\\vec{v}$ est le vecteur vitesse du sauteur, $v$ la norme de ce vecteur et $\\alpha$ une constante. On estimera la valeur numérique de $\\alpha$ en considérant le résultat observationnel qu’un parachutiste de $100$ kg en chute libre atteint une vitesse limite de l’ordre de $\\approx200$ km/h près du sol. On supposera par ailleurs que le coefficient $\\alpha$ est proportionnel à la masse volumique de l’air autour du corps en chute libre (rappel : retrouvez la masse volumique de l’air dans les conditions normales de température et de pression).\n",
    "\n",
    "La force de frottement s’écrit $\\vec{f} = -\\frac{1}{2}\\rho . S . c_x . v . \\vec{v}$\n",
    "\n",
    "- $\\vec{v}$ est le vecteur vitesse du satellite\n",
    "- $v$ la norme de ce vecteur\n",
    "- $S$ la section droite du satellite (que l’on estimera)\n",
    "— $\\rho$ la masse volumique de l’air (évidemment au niveau du satellite)\n",
    "- $c_x$ un coefficient sans dimension que l’on prendra égal à $c_x = 0,4$\n",
    "\n",
    "8) Mettre cette Équation sous une forme adaptée la résolution numérique pour les deux cas précédents."
   ]
  },
  {
   "cell_type": "markdown",
   "metadata": {},
   "source": [
    "## Résolution numérique dans un cas simple\n",
    "\n",
    "On suppose dans cette section que la force de frottement correspond au cas A) ci-dessus.\n",
    "\n",
    "9) En posant la valeur initiale de la position correspondant aux conditions du saut de Baumgartner, résoudre numériquement les équations à l’aide de l’outil informatique. On se basera sur les expressions et calculs faits en préparation du TP (sections ci-dessus).\n",
    "\n",
    "On attend par exemple des graphiques montrant :\n",
    "- L’altitude (la position) du sauteur en fonction du temps\n",
    "- Tout graphique qui vous semblera pertinent\n",
    "\n",
    "10) Commentez le mouvement obtenu.\n",
    "\n",
    "11) Afficher un graphe de la norme de la vitesse en fonction du temps entre l’altitude de d´epart et le contact avec le sol. Afficher également un graphe de l’´energie mécanique du sauteur en fonction du temps. Commentez ces deux graphes.\n",
    "\n",
    "12) Voici un extrait de la page Wikipédia consacrée à F. Baumgartner :\n",
    "\n",
    "*“L’altitude de 39000 m est atteinte à deux reprises, une première fois apràs 2 h 29 min d’ascension et une deuxième fois après 2 h 34 min. La plus haute altitude (39068 m) est atteinte après 2 h 35 min 40 s. 2 h 37 min après le lancement, et après la v´erification avec Kittinger des nombreux points de la check-list, Baumgartner se lance dans une chute libre de 4 minutes et 19 secondes et 36529 mètres, devenant le premier homme à d´epasser le mur du son sans propulsion et atteignant la vitesse maximale de 1342,8 km/h - au bout de (45,5 +- 0,5) secondes - avant d’ouvrir son parachute à 2500 m d’altitude (et une vitesse d’équilibre alors d’environ 200 km/h) et de se poser sans encombres après une chute totale de 9 min 3 s.”*\n",
    "\n",
    "Comparez ces données à vos résultats. Avez-vous une idée pour expliquer les différences ?\n",
    "\n",
    "13) Résoudre analytiquement les équations du mouvement dans le cas où il n’y pas de frottement parce qu’il n’y aurait pas d’air et où on peut négliger les variations de l’accélération de la pesanteur en fonction de l’altitude.\n",
    "\n",
    "Comparez vos résultats numériques avec la solution analytique que vous venez de calculer. Comment peut-on faire pour diminuer les différences entre les deux solutions ?\n",
    "\n",
    "On attend ici aussi des graphiques de la position en fonction du temps et de la vitesse en fonction du temps comparant les deux solutions."
   ]
  },
  {
   "cell_type": "code",
   "execution_count": null,
   "metadata": {},
   "outputs": [],
   "source": []
  },
  {
   "cell_type": "markdown",
   "metadata": {},
   "source": [
    "## Résolution numérique dans un cas plus complexe\n",
    "\n",
    "14) Reprendre les questions ci-dessus (celles que vous pouvez ou qui sont pertinentes) en considérant maintenant que le sauteur subit un frottement correspondant au cas B) ci-dessus.\n",
    "\n",
    "15) Si le sauteur tourne sur lui-même, le coefficient de frottement $c_x$ varie. Reprenez les questions ci-dessus (celles que vous pouvez ou qui sont pertinentes) en consid´erant maintenant que le sauteur subit un frottement correspondant au cas B) ci-dessus et qu’il subit une rotation sur lui-même qui fait varier le coefficient de frottement de la façon suivante :\n",
    "\n",
    "<div align=\"center\"> $c_x(t) = c_0 (1 + m . \\sin{(\\omega . t)})$ </div>\n",
    "\n",
    "\n",
    "\n",
    "\n",
    "où $c_0 =$ 0, 4, $m = $0, 1 et $\\omega =$ 0, 5 rad/s."
   ]
  },
  {
   "cell_type": "code",
   "execution_count": null,
   "metadata": {},
   "outputs": [],
   "source": []
  }
 ],
 "metadata": {
  "kernelspec": {
   "display_name": "Python 3",
   "language": "python",
   "name": "python3"
  },
  "language_info": {
   "codemirror_mode": {
    "name": "ipython",
    "version": 3
   },
   "file_extension": ".py",
   "mimetype": "text/x-python",
   "name": "python",
   "nbconvert_exporter": "python",
   "pygments_lexer": "ipython3",
   "version": "3.7.4"
  }
 },
 "nbformat": 4,
 "nbformat_minor": 4
}
